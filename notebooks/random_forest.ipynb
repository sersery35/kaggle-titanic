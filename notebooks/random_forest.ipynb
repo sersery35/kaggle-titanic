{
 "cells": [
  {
   "cell_type": "code",
   "execution_count": 15,
   "metadata": {},
   "outputs": [],
   "source": [
    "import numpy as np\n",
    "import pandas as pd\n",
    "import os\n",
    "from utils import get_label, load_data, preprocess_dataframe, get_tuner, save_model, load_model, print_scores\n",
    "from sklearn.ensemble import RandomForestClassifier\n",
    "# from sklearn.preprocessing import LabelEncoder\n",
    "import ydata_profiling as ydp\n",
    "from sklearn.pipeline import Pipeline"
   ]
  },
  {
   "cell_type": "code",
   "execution_count": 2,
   "metadata": {},
   "outputs": [],
   "source": [
    "%load_ext autoreload\n",
    "%autoreload 2"
   ]
  },
  {
   "cell_type": "code",
   "execution_count": 3,
   "metadata": {},
   "outputs": [],
   "source": [
    "train_df, test_df = load_data()\n",
    "label = get_label()"
   ]
  },
  {
   "cell_type": "code",
   "execution_count": 4,
   "metadata": {},
   "outputs": [
    {
     "data": {
      "text/plain": [
       "['Pclass', 'Sex', 'Age', 'Ticket', 'Fare', 'Embarked']"
      ]
     },
     "execution_count": 4,
     "metadata": {},
     "output_type": "execute_result"
    }
   ],
   "source": [
    "input_features = train_df.columns.tolist()\n",
    "input_features.remove('PassengerId')\n",
    "input_features.remove('Cabin')\n",
    "input_features.remove('Parch')\n",
    "input_features.remove('SibSp')\n",
    "input_features.remove('Name')\n",
    "input_features.remove('Survived')\n",
    "input_features"
   ]
  },
  {
   "cell_type": "code",
   "execution_count": 7,
   "metadata": {},
   "outputs": [
    {
     "name": "stdout",
     "output_type": "stream",
     "text": [
      "Converting Pclass to label\n",
      "Converting Sex to label\n",
      "Converting Embarked to label\n",
      "Converting Pclass to label\n",
      "Converting Sex to label\n",
      "Converting Embarked to label\n"
     ]
    },
    {
     "name": "stderr",
     "output_type": "stream",
     "text": [
      "/home/sersery/Applications/anaconda3/envs/kaggle_titanic/lib/python3.9/site-packages/sklearn/preprocessing/_label.py:114: DataConversionWarning: A column-vector y was passed when a 1d array was expected. Please change the shape of y to (n_samples, ), for example using ravel().\n",
      "  y = column_or_1d(y, warn=True)\n",
      "/home/sersery/Applications/anaconda3/envs/kaggle_titanic/lib/python3.9/site-packages/sklearn/preprocessing/_label.py:114: DataConversionWarning: A column-vector y was passed when a 1d array was expected. Please change the shape of y to (n_samples, ), for example using ravel().\n",
      "  y = column_or_1d(y, warn=True)\n",
      "/home/sersery/Applications/anaconda3/envs/kaggle_titanic/lib/python3.9/site-packages/sklearn/preprocessing/_label.py:114: DataConversionWarning: A column-vector y was passed when a 1d array was expected. Please change the shape of y to (n_samples, ), for example using ravel().\n",
      "  y = column_or_1d(y, warn=True)\n",
      "/home/sersery/Applications/anaconda3/envs/kaggle_titanic/lib/python3.9/site-packages/sklearn/preprocessing/_label.py:114: DataConversionWarning: A column-vector y was passed when a 1d array was expected. Please change the shape of y to (n_samples, ), for example using ravel().\n",
      "  y = column_or_1d(y, warn=True)\n",
      "/home/sersery/Applications/anaconda3/envs/kaggle_titanic/lib/python3.9/site-packages/sklearn/preprocessing/_label.py:114: DataConversionWarning: A column-vector y was passed when a 1d array was expected. Please change the shape of y to (n_samples, ), for example using ravel().\n",
      "  y = column_or_1d(y, warn=True)\n",
      "/home/sersery/Applications/anaconda3/envs/kaggle_titanic/lib/python3.9/site-packages/sklearn/preprocessing/_label.py:114: DataConversionWarning: A column-vector y was passed when a 1d array was expected. Please change the shape of y to (n_samples, ), for example using ravel().\n",
      "  y = column_or_1d(y, warn=True)\n"
     ]
    },
    {
     "data": {
      "text/html": [
       "<div>\n",
       "<style scoped>\n",
       "    .dataframe tbody tr th:only-of-type {\n",
       "        vertical-align: middle;\n",
       "    }\n",
       "\n",
       "    .dataframe tbody tr th {\n",
       "        vertical-align: top;\n",
       "    }\n",
       "\n",
       "    .dataframe thead th {\n",
       "        text-align: right;\n",
       "    }\n",
       "</style>\n",
       "<table border=\"1\" class=\"dataframe\">\n",
       "  <thead>\n",
       "    <tr style=\"text-align: right;\">\n",
       "      <th></th>\n",
       "      <th>Pclass</th>\n",
       "      <th>Sex</th>\n",
       "      <th>Age</th>\n",
       "      <th>Fare</th>\n",
       "      <th>Embarked</th>\n",
       "      <th>Has_Sibsp</th>\n",
       "      <th>Has_Parch</th>\n",
       "      <th>Has_Family</th>\n",
       "    </tr>\n",
       "  </thead>\n",
       "  <tbody>\n",
       "    <tr>\n",
       "      <th>331</th>\n",
       "      <td>0</td>\n",
       "      <td>1</td>\n",
       "      <td>1.112223</td>\n",
       "      <td>-0.078684</td>\n",
       "      <td>2</td>\n",
       "      <td>0</td>\n",
       "      <td>0</td>\n",
       "      <td>0</td>\n",
       "    </tr>\n",
       "    <tr>\n",
       "      <th>733</th>\n",
       "      <td>1</td>\n",
       "      <td>1</td>\n",
       "      <td>-0.445495</td>\n",
       "      <td>-0.377145</td>\n",
       "      <td>2</td>\n",
       "      <td>0</td>\n",
       "      <td>0</td>\n",
       "      <td>0</td>\n",
       "    </tr>\n",
       "    <tr>\n",
       "      <th>382</th>\n",
       "      <td>2</td>\n",
       "      <td>1</td>\n",
       "      <td>0.177592</td>\n",
       "      <td>-0.474867</td>\n",
       "      <td>2</td>\n",
       "      <td>0</td>\n",
       "      <td>0</td>\n",
       "      <td>0</td>\n",
       "    </tr>\n",
       "    <tr>\n",
       "      <th>704</th>\n",
       "      <td>2</td>\n",
       "      <td>1</td>\n",
       "      <td>-0.237799</td>\n",
       "      <td>-0.476230</td>\n",
       "      <td>2</td>\n",
       "      <td>1</td>\n",
       "      <td>0</td>\n",
       "      <td>1</td>\n",
       "    </tr>\n",
       "    <tr>\n",
       "      <th>813</th>\n",
       "      <td>2</td>\n",
       "      <td>0</td>\n",
       "      <td>-1.622436</td>\n",
       "      <td>-0.025249</td>\n",
       "      <td>2</td>\n",
       "      <td>1</td>\n",
       "      <td>1</td>\n",
       "      <td>1</td>\n",
       "    </tr>\n",
       "  </tbody>\n",
       "</table>\n",
       "</div>"
      ],
      "text/plain": [
       "     Pclass  Sex       Age      Fare  Embarked  Has_Sibsp  Has_Parch  \\\n",
       "331       0    1  1.112223 -0.078684         2          0          0   \n",
       "733       1    1 -0.445495 -0.377145         2          0          0   \n",
       "382       2    1  0.177592 -0.474867         2          0          0   \n",
       "704       2    1 -0.237799 -0.476230         2          1          0   \n",
       "813       2    0 -1.622436 -0.025249         2          1          1   \n",
       "\n",
       "     Has_Family  \n",
       "331           0  \n",
       "733           0  \n",
       "382           0  \n",
       "704           1  \n",
       "813           1  "
      ]
     },
     "execution_count": 7,
     "metadata": {},
     "output_type": "execute_result"
    }
   ],
   "source": [
    "X_train, y_train, X_val, y_val = preprocess_dataframe(\n",
    "    train_df,\n",
    "    input_features=input_features,\n",
    "    drop_na=False,\n",
    "    fill_na=True,\n",
    "    enable_categorical=False,\n",
    "    drop_duplicates=True,\n",
    ")\n",
    "X_test = preprocess_dataframe(\n",
    "    test_df,\n",
    "    input_features=input_features,\n",
    "    drop_na=False,\n",
    "    fill_na=True,\n",
    "    enable_categorical=False,\n",
    "    test_split=None\n",
    ")\n",
    "\n",
    "X_train.head(5)"
   ]
  },
  {
   "cell_type": "code",
   "execution_count": 8,
   "metadata": {},
   "outputs": [
    {
     "data": {
      "text/plain": [
       "0"
      ]
     },
     "execution_count": 8,
     "metadata": {},
     "output_type": "execute_result"
    }
   ],
   "source": [
    "X_train.duplicated().sum()"
   ]
  },
  {
   "cell_type": "code",
   "execution_count": 9,
   "metadata": {},
   "outputs": [
    {
     "data": {
      "text/plain": [
       "Index(['Pclass', 'Sex', 'Age', 'Fare', 'Embarked', 'Has_Sibsp', 'Has_Parch',\n",
       "       'Has_Family'],\n",
       "      dtype='object')"
      ]
     },
     "execution_count": 9,
     "metadata": {},
     "output_type": "execute_result"
    }
   ],
   "source": [
    "X_train.columns"
   ]
  },
  {
   "cell_type": "code",
   "execution_count": 10,
   "metadata": {},
   "outputs": [],
   "source": [
    "rf_clf = RandomForestClassifier(n_estimators=100, max_depth=5, random_state=42)"
   ]
  },
  {
   "cell_type": "code",
   "execution_count": 11,
   "metadata": {},
   "outputs": [
    {
     "data": {
      "text/html": [
       "<style>#sk-container-id-1 {color: black;}#sk-container-id-1 pre{padding: 0;}#sk-container-id-1 div.sk-toggleable {background-color: white;}#sk-container-id-1 label.sk-toggleable__label {cursor: pointer;display: block;width: 100%;margin-bottom: 0;padding: 0.3em;box-sizing: border-box;text-align: center;}#sk-container-id-1 label.sk-toggleable__label-arrow:before {content: \"▸\";float: left;margin-right: 0.25em;color: #696969;}#sk-container-id-1 label.sk-toggleable__label-arrow:hover:before {color: black;}#sk-container-id-1 div.sk-estimator:hover label.sk-toggleable__label-arrow:before {color: black;}#sk-container-id-1 div.sk-toggleable__content {max-height: 0;max-width: 0;overflow: hidden;text-align: left;background-color: #f0f8ff;}#sk-container-id-1 div.sk-toggleable__content pre {margin: 0.2em;color: black;border-radius: 0.25em;background-color: #f0f8ff;}#sk-container-id-1 input.sk-toggleable__control:checked~div.sk-toggleable__content {max-height: 200px;max-width: 100%;overflow: auto;}#sk-container-id-1 input.sk-toggleable__control:checked~label.sk-toggleable__label-arrow:before {content: \"▾\";}#sk-container-id-1 div.sk-estimator input.sk-toggleable__control:checked~label.sk-toggleable__label {background-color: #d4ebff;}#sk-container-id-1 div.sk-label input.sk-toggleable__control:checked~label.sk-toggleable__label {background-color: #d4ebff;}#sk-container-id-1 input.sk-hidden--visually {border: 0;clip: rect(1px 1px 1px 1px);clip: rect(1px, 1px, 1px, 1px);height: 1px;margin: -1px;overflow: hidden;padding: 0;position: absolute;width: 1px;}#sk-container-id-1 div.sk-estimator {font-family: monospace;background-color: #f0f8ff;border: 1px dotted black;border-radius: 0.25em;box-sizing: border-box;margin-bottom: 0.5em;}#sk-container-id-1 div.sk-estimator:hover {background-color: #d4ebff;}#sk-container-id-1 div.sk-parallel-item::after {content: \"\";width: 100%;border-bottom: 1px solid gray;flex-grow: 1;}#sk-container-id-1 div.sk-label:hover label.sk-toggleable__label {background-color: #d4ebff;}#sk-container-id-1 div.sk-serial::before {content: \"\";position: absolute;border-left: 1px solid gray;box-sizing: border-box;top: 0;bottom: 0;left: 50%;z-index: 0;}#sk-container-id-1 div.sk-serial {display: flex;flex-direction: column;align-items: center;background-color: white;padding-right: 0.2em;padding-left: 0.2em;position: relative;}#sk-container-id-1 div.sk-item {position: relative;z-index: 1;}#sk-container-id-1 div.sk-parallel {display: flex;align-items: stretch;justify-content: center;background-color: white;position: relative;}#sk-container-id-1 div.sk-item::before, #sk-container-id-1 div.sk-parallel-item::before {content: \"\";position: absolute;border-left: 1px solid gray;box-sizing: border-box;top: 0;bottom: 0;left: 50%;z-index: -1;}#sk-container-id-1 div.sk-parallel-item {display: flex;flex-direction: column;z-index: 1;position: relative;background-color: white;}#sk-container-id-1 div.sk-parallel-item:first-child::after {align-self: flex-end;width: 50%;}#sk-container-id-1 div.sk-parallel-item:last-child::after {align-self: flex-start;width: 50%;}#sk-container-id-1 div.sk-parallel-item:only-child::after {width: 0;}#sk-container-id-1 div.sk-dashed-wrapped {border: 1px dashed gray;margin: 0 0.4em 0.5em 0.4em;box-sizing: border-box;padding-bottom: 0.4em;background-color: white;}#sk-container-id-1 div.sk-label label {font-family: monospace;font-weight: bold;display: inline-block;line-height: 1.2em;}#sk-container-id-1 div.sk-label-container {text-align: center;}#sk-container-id-1 div.sk-container {/* jupyter's `normalize.less` sets `[hidden] { display: none; }` but bootstrap.min.css set `[hidden] { display: none !important; }` so we also need the `!important` here to be able to override the default hidden behavior on the sphinx rendered scikit-learn.org. See: https://github.com/scikit-learn/scikit-learn/issues/21755 */display: inline-block !important;position: relative;}#sk-container-id-1 div.sk-text-repr-fallback {display: none;}</style><div id=\"sk-container-id-1\" class=\"sk-top-container\"><div class=\"sk-text-repr-fallback\"><pre>RandomForestClassifier(max_depth=5, random_state=42)</pre><b>In a Jupyter environment, please rerun this cell to show the HTML representation or trust the notebook. <br />On GitHub, the HTML representation is unable to render, please try loading this page with nbviewer.org.</b></div><div class=\"sk-container\" hidden><div class=\"sk-item\"><div class=\"sk-estimator sk-toggleable\"><input class=\"sk-toggleable__control sk-hidden--visually\" id=\"sk-estimator-id-1\" type=\"checkbox\" checked><label for=\"sk-estimator-id-1\" class=\"sk-toggleable__label sk-toggleable__label-arrow\">RandomForestClassifier</label><div class=\"sk-toggleable__content\"><pre>RandomForestClassifier(max_depth=5, random_state=42)</pre></div></div></div></div></div>"
      ],
      "text/plain": [
       "RandomForestClassifier(max_depth=5, random_state=42)"
      ]
     },
     "execution_count": 11,
     "metadata": {},
     "output_type": "execute_result"
    }
   ],
   "source": [
    "feature_subset = ['Sex', 'Age', 'Fare', 'Has_Family']\n",
    "rf_clf.fit(X_train[feature_subset], y_train)"
   ]
  },
  {
   "cell_type": "code",
   "execution_count": 12,
   "metadata": {},
   "outputs": [
    {
     "data": {
      "text/plain": [
       "0.7932960893854749"
      ]
     },
     "execution_count": 12,
     "metadata": {},
     "output_type": "execute_result"
    }
   ],
   "source": [
    "rf_clf.score(X_val[feature_subset], y_val)"
   ]
  },
  {
   "cell_type": "code",
   "execution_count": 13,
   "metadata": {},
   "outputs": [],
   "source": [
    "hparam_grid = {\n",
    "    'classifier__n_estimators': [100, 200, 300, 400, 500],\n",
    "    'classifier__max_depth': [5, 10, 15, 20, 25, 30, 35, 40, 45, 50],\n",
    "    'classifier__min_samples_split': [2, 5, 10, 15, 20],\n",
    "    'classifier__min_samples_leaf': [1, 2, 5, 10, 15, 20],\n",
    "    # 'classifier__max_features': ['auto', 'sqrt', 'log2'],\n",
    "    'classifier__bootstrap': [True, False],\n",
    "    'classifier__criterion': ['gini', 'entropy'],\n",
    "    # 'classifier__warm_start': [True, False],\n",
    "    # 'classifier__oob_score': [True, False],\n",
    "    'classifier__class_weight': ['balanced', 'balanced_subsample', None],\n",
    "    'classifier__ccp_alpha': [0.0, 0.1, 0.2, 0.3, 0.4, 0.5],\n",
    "    'classifier__max_leaf_nodes': [None, 5, 10, 15, 20, 25, 30, 35, 40, 45, 50],\n",
    "}\n",
    "pipeline = Pipeline([('classifier', RandomForestClassifier())])\n",
    "tuner = get_tuner(pipeline, hparam_grid, use_random_search=True)"
   ]
  },
  {
   "cell_type": "code",
   "execution_count": 14,
   "metadata": {},
   "outputs": [
    {
     "data": {
      "text/html": [
       "<style>#sk-container-id-2 {color: black;}#sk-container-id-2 pre{padding: 0;}#sk-container-id-2 div.sk-toggleable {background-color: white;}#sk-container-id-2 label.sk-toggleable__label {cursor: pointer;display: block;width: 100%;margin-bottom: 0;padding: 0.3em;box-sizing: border-box;text-align: center;}#sk-container-id-2 label.sk-toggleable__label-arrow:before {content: \"▸\";float: left;margin-right: 0.25em;color: #696969;}#sk-container-id-2 label.sk-toggleable__label-arrow:hover:before {color: black;}#sk-container-id-2 div.sk-estimator:hover label.sk-toggleable__label-arrow:before {color: black;}#sk-container-id-2 div.sk-toggleable__content {max-height: 0;max-width: 0;overflow: hidden;text-align: left;background-color: #f0f8ff;}#sk-container-id-2 div.sk-toggleable__content pre {margin: 0.2em;color: black;border-radius: 0.25em;background-color: #f0f8ff;}#sk-container-id-2 input.sk-toggleable__control:checked~div.sk-toggleable__content {max-height: 200px;max-width: 100%;overflow: auto;}#sk-container-id-2 input.sk-toggleable__control:checked~label.sk-toggleable__label-arrow:before {content: \"▾\";}#sk-container-id-2 div.sk-estimator input.sk-toggleable__control:checked~label.sk-toggleable__label {background-color: #d4ebff;}#sk-container-id-2 div.sk-label input.sk-toggleable__control:checked~label.sk-toggleable__label {background-color: #d4ebff;}#sk-container-id-2 input.sk-hidden--visually {border: 0;clip: rect(1px 1px 1px 1px);clip: rect(1px, 1px, 1px, 1px);height: 1px;margin: -1px;overflow: hidden;padding: 0;position: absolute;width: 1px;}#sk-container-id-2 div.sk-estimator {font-family: monospace;background-color: #f0f8ff;border: 1px dotted black;border-radius: 0.25em;box-sizing: border-box;margin-bottom: 0.5em;}#sk-container-id-2 div.sk-estimator:hover {background-color: #d4ebff;}#sk-container-id-2 div.sk-parallel-item::after {content: \"\";width: 100%;border-bottom: 1px solid gray;flex-grow: 1;}#sk-container-id-2 div.sk-label:hover label.sk-toggleable__label {background-color: #d4ebff;}#sk-container-id-2 div.sk-serial::before {content: \"\";position: absolute;border-left: 1px solid gray;box-sizing: border-box;top: 0;bottom: 0;left: 50%;z-index: 0;}#sk-container-id-2 div.sk-serial {display: flex;flex-direction: column;align-items: center;background-color: white;padding-right: 0.2em;padding-left: 0.2em;position: relative;}#sk-container-id-2 div.sk-item {position: relative;z-index: 1;}#sk-container-id-2 div.sk-parallel {display: flex;align-items: stretch;justify-content: center;background-color: white;position: relative;}#sk-container-id-2 div.sk-item::before, #sk-container-id-2 div.sk-parallel-item::before {content: \"\";position: absolute;border-left: 1px solid gray;box-sizing: border-box;top: 0;bottom: 0;left: 50%;z-index: -1;}#sk-container-id-2 div.sk-parallel-item {display: flex;flex-direction: column;z-index: 1;position: relative;background-color: white;}#sk-container-id-2 div.sk-parallel-item:first-child::after {align-self: flex-end;width: 50%;}#sk-container-id-2 div.sk-parallel-item:last-child::after {align-self: flex-start;width: 50%;}#sk-container-id-2 div.sk-parallel-item:only-child::after {width: 0;}#sk-container-id-2 div.sk-dashed-wrapped {border: 1px dashed gray;margin: 0 0.4em 0.5em 0.4em;box-sizing: border-box;padding-bottom: 0.4em;background-color: white;}#sk-container-id-2 div.sk-label label {font-family: monospace;font-weight: bold;display: inline-block;line-height: 1.2em;}#sk-container-id-2 div.sk-label-container {text-align: center;}#sk-container-id-2 div.sk-container {/* jupyter's `normalize.less` sets `[hidden] { display: none; }` but bootstrap.min.css set `[hidden] { display: none !important; }` so we also need the `!important` here to be able to override the default hidden behavior on the sphinx rendered scikit-learn.org. See: https://github.com/scikit-learn/scikit-learn/issues/21755 */display: inline-block !important;position: relative;}#sk-container-id-2 div.sk-text-repr-fallback {display: none;}</style><div id=\"sk-container-id-2\" class=\"sk-top-container\"><div class=\"sk-text-repr-fallback\"><pre>RandomizedSearchCV(cv=5,\n",
       "                   estimator=Pipeline(steps=[(&#x27;classifier&#x27;,\n",
       "                                              RandomForestClassifier())]),\n",
       "                   param_distributions={&#x27;classifier__bootstrap&#x27;: [True, False],\n",
       "                                        &#x27;classifier__ccp_alpha&#x27;: [0.0, 0.1, 0.2,\n",
       "                                                                  0.3, 0.4,\n",
       "                                                                  0.5],\n",
       "                                        &#x27;classifier__class_weight&#x27;: [&#x27;balanced&#x27;,\n",
       "                                                                     &#x27;balanced_subsample&#x27;,\n",
       "                                                                     None],\n",
       "                                        &#x27;classifier__criterion&#x27;: [&#x27;gini&#x27;,\n",
       "                                                                  &#x27;entropy&#x27;],\n",
       "                                        &#x27;classifier__max_depth&#x27;: [5, 10, 15, 20,\n",
       "                                                                  25, 30, 35,\n",
       "                                                                  40, 45, 50],\n",
       "                                        &#x27;classifier__max_leaf_nodes&#x27;: [None, 5,\n",
       "                                                                       10, 15,\n",
       "                                                                       20, 25,\n",
       "                                                                       30, 35,\n",
       "                                                                       40, 45,\n",
       "                                                                       50],\n",
       "                                        &#x27;classifier__min_samples_leaf&#x27;: [1, 2,\n",
       "                                                                         5, 10,\n",
       "                                                                         15,\n",
       "                                                                         20],\n",
       "                                        &#x27;classifier__min_samples_split&#x27;: [2, 5,\n",
       "                                                                          10,\n",
       "                                                                          15,\n",
       "                                                                          20],\n",
       "                                        &#x27;classifier__n_estimators&#x27;: [100, 200,\n",
       "                                                                     300, 400,\n",
       "                                                                     500]},\n",
       "                   random_state=42, return_train_score=True)</pre><b>In a Jupyter environment, please rerun this cell to show the HTML representation or trust the notebook. <br />On GitHub, the HTML representation is unable to render, please try loading this page with nbviewer.org.</b></div><div class=\"sk-container\" hidden><div class=\"sk-item sk-dashed-wrapped\"><div class=\"sk-label-container\"><div class=\"sk-label sk-toggleable\"><input class=\"sk-toggleable__control sk-hidden--visually\" id=\"sk-estimator-id-2\" type=\"checkbox\" ><label for=\"sk-estimator-id-2\" class=\"sk-toggleable__label sk-toggleable__label-arrow\">RandomizedSearchCV</label><div class=\"sk-toggleable__content\"><pre>RandomizedSearchCV(cv=5,\n",
       "                   estimator=Pipeline(steps=[(&#x27;classifier&#x27;,\n",
       "                                              RandomForestClassifier())]),\n",
       "                   param_distributions={&#x27;classifier__bootstrap&#x27;: [True, False],\n",
       "                                        &#x27;classifier__ccp_alpha&#x27;: [0.0, 0.1, 0.2,\n",
       "                                                                  0.3, 0.4,\n",
       "                                                                  0.5],\n",
       "                                        &#x27;classifier__class_weight&#x27;: [&#x27;balanced&#x27;,\n",
       "                                                                     &#x27;balanced_subsample&#x27;,\n",
       "                                                                     None],\n",
       "                                        &#x27;classifier__criterion&#x27;: [&#x27;gini&#x27;,\n",
       "                                                                  &#x27;entropy&#x27;],\n",
       "                                        &#x27;classifier__max_depth&#x27;: [5, 10, 15, 20,\n",
       "                                                                  25, 30, 35,\n",
       "                                                                  40, 45, 50],\n",
       "                                        &#x27;classifier__max_leaf_nodes&#x27;: [None, 5,\n",
       "                                                                       10, 15,\n",
       "                                                                       20, 25,\n",
       "                                                                       30, 35,\n",
       "                                                                       40, 45,\n",
       "                                                                       50],\n",
       "                                        &#x27;classifier__min_samples_leaf&#x27;: [1, 2,\n",
       "                                                                         5, 10,\n",
       "                                                                         15,\n",
       "                                                                         20],\n",
       "                                        &#x27;classifier__min_samples_split&#x27;: [2, 5,\n",
       "                                                                          10,\n",
       "                                                                          15,\n",
       "                                                                          20],\n",
       "                                        &#x27;classifier__n_estimators&#x27;: [100, 200,\n",
       "                                                                     300, 400,\n",
       "                                                                     500]},\n",
       "                   random_state=42, return_train_score=True)</pre></div></div></div><div class=\"sk-parallel\"><div class=\"sk-parallel-item\"><div class=\"sk-item\"><div class=\"sk-label-container\"><div class=\"sk-label sk-toggleable\"><input class=\"sk-toggleable__control sk-hidden--visually\" id=\"sk-estimator-id-3\" type=\"checkbox\" ><label for=\"sk-estimator-id-3\" class=\"sk-toggleable__label sk-toggleable__label-arrow\">estimator: Pipeline</label><div class=\"sk-toggleable__content\"><pre>Pipeline(steps=[(&#x27;classifier&#x27;, RandomForestClassifier())])</pre></div></div></div><div class=\"sk-serial\"><div class=\"sk-item\"><div class=\"sk-serial\"><div class=\"sk-item\"><div class=\"sk-estimator sk-toggleable\"><input class=\"sk-toggleable__control sk-hidden--visually\" id=\"sk-estimator-id-4\" type=\"checkbox\" ><label for=\"sk-estimator-id-4\" class=\"sk-toggleable__label sk-toggleable__label-arrow\">RandomForestClassifier</label><div class=\"sk-toggleable__content\"><pre>RandomForestClassifier()</pre></div></div></div></div></div></div></div></div></div></div></div></div>"
      ],
      "text/plain": [
       "RandomizedSearchCV(cv=5,\n",
       "                   estimator=Pipeline(steps=[('classifier',\n",
       "                                              RandomForestClassifier())]),\n",
       "                   param_distributions={'classifier__bootstrap': [True, False],\n",
       "                                        'classifier__ccp_alpha': [0.0, 0.1, 0.2,\n",
       "                                                                  0.3, 0.4,\n",
       "                                                                  0.5],\n",
       "                                        'classifier__class_weight': ['balanced',\n",
       "                                                                     'balanced_subsample',\n",
       "                                                                     None],\n",
       "                                        'classifier__criterion': ['gini',\n",
       "                                                                  'entropy'],\n",
       "                                        'classifier__max_depth': [5, 10, 15, 20,\n",
       "                                                                  25, 30, 35,\n",
       "                                                                  40, 45, 50],\n",
       "                                        'classifier__max_leaf_nodes': [None, 5,\n",
       "                                                                       10, 15,\n",
       "                                                                       20, 25,\n",
       "                                                                       30, 35,\n",
       "                                                                       40, 45,\n",
       "                                                                       50],\n",
       "                                        'classifier__min_samples_leaf': [1, 2,\n",
       "                                                                         5, 10,\n",
       "                                                                         15,\n",
       "                                                                         20],\n",
       "                                        'classifier__min_samples_split': [2, 5,\n",
       "                                                                          10,\n",
       "                                                                          15,\n",
       "                                                                          20],\n",
       "                                        'classifier__n_estimators': [100, 200,\n",
       "                                                                     300, 400,\n",
       "                                                                     500]},\n",
       "                   random_state=42, return_train_score=True)"
      ]
     },
     "execution_count": 14,
     "metadata": {},
     "output_type": "execute_result"
    }
   ],
   "source": [
    "tuner.fit(X_train[feature_subset], y_train)"
   ]
  },
  {
   "cell_type": "code",
   "execution_count": 16,
   "metadata": {},
   "outputs": [
    {
     "name": "stdout",
     "output_type": "stream",
     "text": [
      "Train Score: 0.7822085889570553\n",
      "Val score: 0.7821229050279329\n"
     ]
    },
    {
     "data": {
      "text/plain": [
       "(0.7822085889570553, 0.7821229050279329)"
      ]
     },
     "execution_count": 16,
     "metadata": {},
     "output_type": "execute_result"
    }
   ],
   "source": [
    "print_scores(tuner, X_train[feature_subset],\n",
    "             y_train, X_val[feature_subset], y_val)"
   ]
  },
  {
   "cell_type": "code",
   "execution_count": 17,
   "metadata": {},
   "outputs": [
    {
     "data": {
      "text/plain": [
       "{'memory': None,\n",
       " 'steps': [('classifier',\n",
       "   RandomForestClassifier(ccp_alpha=0.1, class_weight='balanced',\n",
       "                          criterion='entropy', max_depth=20, max_leaf_nodes=50,\n",
       "                          min_samples_split=5, n_estimators=400))],\n",
       " 'verbose': False,\n",
       " 'classifier': RandomForestClassifier(ccp_alpha=0.1, class_weight='balanced',\n",
       "                        criterion='entropy', max_depth=20, max_leaf_nodes=50,\n",
       "                        min_samples_split=5, n_estimators=400),\n",
       " 'classifier__bootstrap': True,\n",
       " 'classifier__ccp_alpha': 0.1,\n",
       " 'classifier__class_weight': 'balanced',\n",
       " 'classifier__criterion': 'entropy',\n",
       " 'classifier__max_depth': 20,\n",
       " 'classifier__max_features': 'sqrt',\n",
       " 'classifier__max_leaf_nodes': 50,\n",
       " 'classifier__max_samples': None,\n",
       " 'classifier__min_impurity_decrease': 0.0,\n",
       " 'classifier__min_samples_leaf': 1,\n",
       " 'classifier__min_samples_split': 5,\n",
       " 'classifier__min_weight_fraction_leaf': 0.0,\n",
       " 'classifier__n_estimators': 400,\n",
       " 'classifier__n_jobs': None,\n",
       " 'classifier__oob_score': False,\n",
       " 'classifier__random_state': None,\n",
       " 'classifier__verbose': 0,\n",
       " 'classifier__warm_start': False}"
      ]
     },
     "execution_count": 17,
     "metadata": {},
     "output_type": "execute_result"
    }
   ],
   "source": [
    "tuner.best_estimator_.get_params('classifier')"
   ]
  },
  {
   "cell_type": "code",
   "execution_count": null,
   "metadata": {},
   "outputs": [],
   "source": []
  }
 ],
 "metadata": {
  "kernelspec": {
   "display_name": "kaggle_titanic",
   "language": "python",
   "name": "python3"
  },
  "language_info": {
   "codemirror_mode": {
    "name": "ipython",
    "version": 3
   },
   "file_extension": ".py",
   "mimetype": "text/x-python",
   "name": "python",
   "nbconvert_exporter": "python",
   "pygments_lexer": "ipython3",
   "version": "3.9.16"
  },
  "orig_nbformat": 4
 },
 "nbformat": 4,
 "nbformat_minor": 2
}
